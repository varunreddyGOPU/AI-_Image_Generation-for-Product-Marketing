{
  "nbformat": 4,
  "nbformat_minor": 0,
  "metadata": {
    "colab": {
      "provenance": [],
      "gpuType": "T4",
      "authorship_tag": "ABX9TyNemLgXeR5LVDK3zUeIsRWA",
      "include_colab_link": true
    },
    "kernelspec": {
      "name": "python3",
      "display_name": "Python 3"
    },
    "language_info": {
      "name": "python"
    },
    "accelerator": "GPU"
  },
  "cells": [
    {
      "cell_type": "markdown",
      "metadata": {
        "id": "view-in-github",
        "colab_type": "text"
      },
      "source": [
        "<a href=\"https://colab.research.google.com/github/varunreddyGOPU/AI-_Image_Generation-for-Product-Marketing/blob/main/Image_gen_ai.ipynb\" target=\"_parent\"><img src=\"https://colab.research.google.com/assets/colab-badge.svg\" alt=\"Open In Colab\"/></a>"
      ]
    },
    {
      "cell_type": "code",
      "source": [
        "from google import genai\n",
        "from google.genai import types\n",
        "from PIL import Image\n",
        "from io import BytesIO\n",
        "\n",
        "# Initialize the client with your API key\n",
        "from google.colab import userdata\n",
        "\n",
        "GEMINI_API_KEY = userdata.get('GOOGLE_API_KEY')\n",
        "client = genai.Client(api_key=GEMINI_API_KEY)\n",
        "\n",
        "# Define your prompt\n",
        "prompt = \"image of fruits and milk with safeway logo\"\n",
        "\n",
        "# Generate the image\n",
        "response = client.models.generate_images(\n",
        "    model='imagen-3.0-generate-002',\n",
        "    prompt=prompt,\n",
        "    config=types.GenerateImagesConfig(number_of_images=1)\n",
        ")\n",
        "\n",
        "for generated_image in response.generated_images:\n",
        "    # Get the generated image\n",
        "    image = Image.open(BytesIO(generated_image.image.image_bytes))\n",
        "\n",
        "    # Open the logo you want to add (make sure it's in your working directory)\n",
        "    logo = Image.open(\"/content/sample_data/albertsons-logo-1.png\")\n",
        "    # Resize the logo if needed (example: set width to 100px, keep aspect ratio)\n",
        "    logo_width = 100\n",
        "    logo_height = int(logo.height * (logo_width / logo.width))\n",
        "    logo = logo.resize((logo_width, logo_height))\n",
        "\n",
        "    # Paste the logo onto the generated image (adjust x, y position as needed)\n",
        "    image.paste(logo, (image.width - logo.width - 10, image.height - logo.height - 10), logo)\n",
        "\n",
        "    # Show the image (may not work in all environments)\n",
        "    image.show()\n",
        "    # Save the image with the logo\n",
        "    image.save(\"output2_with_logo.png\")"
      ],
      "metadata": {
        "id": "D_VwIbMm2Gd-"
      },
      "execution_count": 12,
      "outputs": []
    },
    {
      "cell_type": "code",
      "source": [
        "import requests\n",
        "from google.colab import userdata\n",
        "\n",
        "SONAR_API_KEY = userdata.get('SONAR_API_KEY')\n",
        "SONAR_API_URL = \"https://api.perplexity.ai/chat/completions\"\n",
        "\n",
        "headers = {\n",
        "    \"Authorization\": f\"Bearer {SONAR_API_KEY}\",\n",
        "    \"Content-Type\": \"application/json\"\n",
        "}\n",
        "\n",
        "prompt = \"\"\"\n",
        "Give a description about eating healthy with strawberries, oranges, and bananas with milk.\n",
        "Include information about the main nutrient values in these foods.\n",
        "\"\"\"\n",
        "\n",
        "data = {\n",
        "    \"model\": \"sonar-pro\",\n",
        "    \"messages\": [\n",
        "        {\"role\": \"user\", \"content\": prompt}\n",
        "    ]\n",
        "}\n",
        "\n",
        "response = requests.post(SONAR_API_URL, headers=headers, json=data)\n",
        "print(\"Status code:\", response.status_code)\n",
        "print(\"Response text:\", response.text)\n",
        "\n",
        "if response.status_code == 200:\n",
        "    try:\n",
        "        # Check the actual response structure; may be \"choices[0].message.content\" or similar\n",
        "        description = response.json()[\"choices\"][0][\"message\"][\"content\"]\n",
        "        print(description)\n",
        "    except Exception as e:\n",
        "        print(\"Error parsing response:\", e)\n",
        "else:\n",
        "    print(\"Failed to get description:\", response.text)\n"
      ],
      "metadata": {
        "colab": {
          "base_uri": "https://localhost:8080/"
        },
        "id": "1_zMNJMC3LJ5",
        "outputId": "a41ba705-d91c-4ce4-c815-2a6dca229e85"
      },
      "execution_count": 18,
      "outputs": [
        {
          "output_type": "stream",
          "name": "stdout",
          "text": [
            "Status code: 200\n",
            "Response text: {\"id\": \"c5d2c09f-782e-4d07-8bc2-cb38b74093cf\", \"model\": \"sonar-pro\", \"created\": 1748435627, \"usage\": {\"prompt_tokens\": 27, \"completion_tokens\": 554, \"total_tokens\": 581, \"search_context_size\": \"low\"}, \"citations\": [\"https://www.allrecipes.com/recipe/215163/strawberry-orange-banana-smoothie/\", \"https://www.ambitiouskitchen.com/strawberry-orange-banana-smoothie/\", \"https://www.myfooddiary.com/foods/7378467/great-value-strawberry-orange-banana-drink-mix\", \"https://www.ewg.org/foodscores/products/043000950548-CrystalLightDrinkMixStrawberryOrangeBanana/\", \"https://smoothiebox.com/blogs/information/strawberry-banana-smoothie-guide\"], \"object\": \"chat.completion\", \"choices\": [{\"index\": 0, \"finish_reason\": \"stop\", \"message\": {\"role\": \"assistant\", \"content\": \"Eating healthy with strawberries, oranges, bananas, and milk creates a nutrient-dense combination that offers numerous health benefits. These ingredients work wonderfully together, especially in smoothies, providing essential vitamins, minerals, and other nutrients your body needs.\\n\\n## Nutritional Benefits\\n\\nStrawberries, oranges, and bananas combined with milk create a powerhouse of nutrition that supports overall health and wellbeing.\\n\\n**Vitamin Content**\\nStrawberries and oranges are excellent sources of vitamin C, a powerful antioxidant that supports immune function and skin health[2][5]. Bananas contribute vitamin B6, which aids in brain development and function, as well as vitamin E[5]. When combined in a smoothie, these fruits deliver a significant vitamin boost, particularly vitamins A, B6, B9 (folate), C, and E[5].\\n\\n**Mineral Content**\\nThis fruit and milk combination provides essential minerals including:\\n- Potassium: Bananas are particularly rich in potassium, which helps regulate blood pressure, heart rate, and supports healthy nerves, muscles, and bones[5]\\n- Calcium: Found in milk and complemented by the fruits\\n- Iron, magnesium, and zinc: Present in the fruit combination, supporting various bodily functions[5]\\n\\n**Other Nutritional Benefits**\\n- Fiber: These fruits provide dietary fiber that aids digestion\\n- Antioxidants: Particularly abundant in strawberries, helping to fight free radicals\\n- Protein: Contributed by milk, supporting muscle health and providing satiety\\n\\n## Healthy Preparation Ideas\\n\\n**Smoothies**\\nA popular way to enjoy this combination is through smoothies. A simple recipe includes:\\n- 1 cup frozen strawberries\\n- 1 ripe banana (fresh or frozen)\\n- 1 medium orange, peeled\\n- \\u00be-1 cup milk (dairy or plant-based like almond milk)[2]\\n\\nBlend all ingredients until smooth for a refreshing, nutrient-packed drink that serves as a perfect breakfast or snack.\\n\\n**Health Benefits**\\n\\nThis combination is particularly beneficial because it's:\\n- Low in calories but high in nutrients, making it filling without excessive caloric intake[5]\\n- Excellent for post-workout recovery due to the potassium content that helps muscles recover[5]\\n- Supportive of immune function through high vitamin C content\\n- Good for heart health through potassium regulation of blood pressure\\n- Hydrating due to the high water content of the fruits\\n\\nThe natural sugars in these fruits provide healthy carbohydrates that give you energy without causing energy crashes later in the day[5]. When combined with milk's protein, this creates a balanced nutritional profile that helps maintain steady energy levels.\\n\\nBy regularly incorporating strawberry, orange, and banana combinations with milk into your diet, you can enjoy delicious flavors while supporting your overall health and nutritional needs.\"}, \"delta\": {\"role\": \"assistant\", \"content\": \"\"}}]}\n",
            "Eating healthy with strawberries, oranges, bananas, and milk creates a nutrient-dense combination that offers numerous health benefits. These ingredients work wonderfully together, especially in smoothies, providing essential vitamins, minerals, and other nutrients your body needs.\n",
            "\n",
            "## Nutritional Benefits\n",
            "\n",
            "Strawberries, oranges, and bananas combined with milk create a powerhouse of nutrition that supports overall health and wellbeing.\n",
            "\n",
            "**Vitamin Content**\n",
            "Strawberries and oranges are excellent sources of vitamin C, a powerful antioxidant that supports immune function and skin health[2][5]. Bananas contribute vitamin B6, which aids in brain development and function, as well as vitamin E[5]. When combined in a smoothie, these fruits deliver a significant vitamin boost, particularly vitamins A, B6, B9 (folate), C, and E[5].\n",
            "\n",
            "**Mineral Content**\n",
            "This fruit and milk combination provides essential minerals including:\n",
            "- Potassium: Bananas are particularly rich in potassium, which helps regulate blood pressure, heart rate, and supports healthy nerves, muscles, and bones[5]\n",
            "- Calcium: Found in milk and complemented by the fruits\n",
            "- Iron, magnesium, and zinc: Present in the fruit combination, supporting various bodily functions[5]\n",
            "\n",
            "**Other Nutritional Benefits**\n",
            "- Fiber: These fruits provide dietary fiber that aids digestion\n",
            "- Antioxidants: Particularly abundant in strawberries, helping to fight free radicals\n",
            "- Protein: Contributed by milk, supporting muscle health and providing satiety\n",
            "\n",
            "## Healthy Preparation Ideas\n",
            "\n",
            "**Smoothies**\n",
            "A popular way to enjoy this combination is through smoothies. A simple recipe includes:\n",
            "- 1 cup frozen strawberries\n",
            "- 1 ripe banana (fresh or frozen)\n",
            "- 1 medium orange, peeled\n",
            "- ¾-1 cup milk (dairy or plant-based like almond milk)[2]\n",
            "\n",
            "Blend all ingredients until smooth for a refreshing, nutrient-packed drink that serves as a perfect breakfast or snack.\n",
            "\n",
            "**Health Benefits**\n",
            "\n",
            "This combination is particularly beneficial because it's:\n",
            "- Low in calories but high in nutrients, making it filling without excessive caloric intake[5]\n",
            "- Excellent for post-workout recovery due to the potassium content that helps muscles recover[5]\n",
            "- Supportive of immune function through high vitamin C content\n",
            "- Good for heart health through potassium regulation of blood pressure\n",
            "- Hydrating due to the high water content of the fruits\n",
            "\n",
            "The natural sugars in these fruits provide healthy carbohydrates that give you energy without causing energy crashes later in the day[5]. When combined with milk's protein, this creates a balanced nutritional profile that helps maintain steady energy levels.\n",
            "\n",
            "By regularly incorporating strawberry, orange, and banana combinations with milk into your diet, you can enjoy delicious flavors while supporting your overall health and nutritional needs.\n"
          ]
        }
      ]
    },
    {
      "cell_type": "code",
      "source": [],
      "metadata": {
        "id": "zyRuO1Lg4MeQ"
      },
      "execution_count": null,
      "outputs": []
    }
  ]
}